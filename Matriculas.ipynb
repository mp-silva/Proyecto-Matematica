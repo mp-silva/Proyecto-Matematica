{
 "cells": [
  {
   "cell_type": "code",
   "execution_count": null,
   "metadata": {},
   "outputs": [],
   "source": [
    "import pandas as pd\n",
    "\n",
    "# Frecuencia de Género\n",
    "freq_genero = df[\"GENERO\"].value_counts()\n",
    "print(\"Frecuencia por Género:\\n\", freq_genero, \"\\n\")\n",
    "\n",
    "# Frecuencia de Tipo de Institución\n",
    "freq_institucion = df[\"TIPO DE INSTITUCION\"].value_counts()\n",
    "print(\"Frecuencia por Tipo de Institución:\\n\", freq_institucion, \"\\n\")\n",
    "\n",
    "# Frecuencia de Áreas de Conocimiento\n",
    "freq_area = df[\"AREA CONOCIMIENTO\"].value_counts()\n",
    "print(\"Frecuencia por Área de Conocimiento:\\n\", freq_area, \"\\n\")"
   ]
  },
  {
   "cell_type": "code",
   "execution_count": null,
   "metadata": {},
   "outputs": [],
   "source": [
    "import matplotlib.pyplot as plt\n",
    "\n",
    "# Gráfico de barras - Género\n",
    "df[\"GENERO\"].value_counts().plot(kind=\"bar\", color=[\"skyblue\", \"lightcoral\"])\n",
    "plt.title(\"Distribución por Género\")\n",
    "plt.xlabel(\"Género\")\n",
    "plt.ylabel(\"Número de estudiantes\")\n",
    "plt.show()\n",
    "\n",
    "# Gráfico de barras - Tipo de Institución\n",
    "df[\"TIPO DE INSTITUCION\"].value_counts().plot(kind=\"bar\", color=\"orange\")\n",
    "plt.title(\"Distribución por Tipo de Institución\")\n",
    "plt.xlabel(\"Tipo de institución\")\n",
    "plt.ylabel(\"Número de estudiantes\")\n",
    "plt.show()\n",
    "\n",
    "# Gráfico de barras - Área de Conocimiento\n",
    "df[\"AREA CONOCIMIENTO\"].value_counts().head(10).plot(kind=\"barh\", color=\"green\")\n",
    "plt.title(\"Top 10 Áreas de Conocimiento\")\n",
    "plt.xlabel(\"Número de estudiantes\")\n",
    "plt.ylabel(\"Área\")\n",
    "plt.show()"
   ]
  },
  {
   "cell_type": "code",
   "execution_count": null,
   "metadata": {},
   "outputs": [],
   "source": [
    "# Resumen estadístico general\n",
    "print(df[[\"EDAD\", \"VALOR MATRICULA (PESOS)\", \"VALOR ARANCEL (PESOS)\"]].describe())\n",
    "\n",
    "# Percentiles específicos\n",
    "percentiles = df[[\"EDAD\", \"VALOR MATRICULA (PESOS)\", \"VALOR ARANCEL (PESOS)\"]].quantile([0.25,0.5,0.75,0.9,0.95])\n",
    "print(\"\\nPercentiles:\\n\", percentiles)"
   ]
  },
  {
   "cell_type": "code",
   "execution_count": null,
   "metadata": {},
   "outputs": [],
   "source": [
    "# Histograma de edades\n",
    "df[\"EDAD\"].plot(kind=\"hist\", bins=20, color=\"purple\", edgecolor=\"black\")\n",
    "plt.title(\"Distribución de Edades\")\n",
    "plt.xlabel(\"Edad\")\n",
    "plt.ylabel(\"Frecuencia\")\n",
    "plt.show()\n",
    "\n",
    "# Histograma de valor de matrícula\n",
    "df[\"VALOR MATRICULA (PESOS)\"].plot(kind=\"hist\", bins=20, color=\"blue\", edgecolor=\"black\")\n",
    "plt.title(\"Distribución de Valor Matrícula\")\n",
    "plt.xlabel(\"Matrícula (Pesos)\")\n",
    "plt.ylabel(\"Frecuencia\")\n",
    "plt.show()\n",
    "\n",
    "# Histograma de valor de arancel\n",
    "df[\"VALOR ARANCEL (PESOS)\"].plot(kind=\"hist\", bins=20, color=\"red\", edgecolor=\"black\")\n",
    "plt.title(\"Distribución de Valor Arancel\")\n",
    "plt.xlabel(\"Arancel (Pesos)\")\n",
    "plt.ylabel(\"Frecuencia\")\n",
    "plt.show()"
   ]
  },
  {
   "cell_type": "code",
   "execution_count": null,
   "metadata": {},
   "outputs": [],
   "source": [
    "# Boxplot de edades\n",
    "df.boxplot(column=\"EDAD\")\n",
    "plt.title(\"Boxplot de Edad\")\n",
    "plt.show()\n",
    "\n",
    "# Boxplot de matrícula y arancel\n",
    "df[[\"VALOR MATRICULA (PESOS)\", \"VALOR ARANCEL (PESOS)\"]].plot(kind=\"box\", vert=False)\n",
    "plt.title(\"Boxplot de Matrícula y Arancel\")\n",
    "plt.show()"
   ]
  }
 ],
 "metadata": {
  "colab": {
   "authorship_tag": "ABX9TyOWLwToMTbSBW1wcBgiy+Vn",
   "collapsed_sections": [
    "wuS28MwJYkL4",
    "klDt2DHpRvdM",
    "MlemxpRQBa30"
   ],
   "provenance": [
    {
     "file_id": "1XMfW0g727a3upIx6_kFxpNsaYQNd_z3-",
     "timestamp": 1751852460083
    }
   ],
   "toc_visible": true
  },
  "kernelspec": {
   "display_name": "Python 3",
   "name": "python3"
  },
  "language_info": {
   "codemirror_mode": {
    "name": "ipython",
    "version": 3
   },
   "file_extension": ".py",
   "mimetype": "text/x-python",
   "name": "python",
   "nbconvert_exporter": "python",
   "pygments_lexer": "ipython3",
   "version": "3.13.7"
  }
 },
 "nbformat": 4,
 "nbformat_minor": 0
}
